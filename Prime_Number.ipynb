{
 "cells": [
  {
   "cell_type": "code",
   "execution_count": 1,
   "metadata": {},
   "outputs": [
    {
     "name": "stdout",
     "output_type": "stream",
     "text": [
      "Enter a number: 16\n",
      "Not prime\n"
     ]
    }
   ],
   "source": [
    "def prime_num(n):\n",
    "    if n <= 1:\n",
    "        return \"Not prime\"\n",
    "    else:\n",
    "        \n",
    "        for i in range(2, n//2):\n",
    "            if n % i == 0:\n",
    "                return \"Not prime\"\n",
    "        else: \n",
    "            return \"Prime\"\n",
    "        \n",
    "n = int( input(\"Enter a number: \") )\n",
    "print( prime_num(n) )"
   ]
  },
  {
   "cell_type": "code",
   "execution_count": null,
   "metadata": {},
   "outputs": [],
   "source": []
  }
 ],
 "metadata": {
  "kernelspec": {
   "display_name": "Python 3",
   "language": "python",
   "name": "python3"
  },
  "language_info": {
   "codemirror_mode": {
    "name": "ipython",
    "version": 3
   },
   "file_extension": ".py",
   "mimetype": "text/x-python",
   "name": "python",
   "nbconvert_exporter": "python",
   "pygments_lexer": "ipython3",
   "version": "3.7.3"
  }
 },
 "nbformat": 4,
 "nbformat_minor": 2
}

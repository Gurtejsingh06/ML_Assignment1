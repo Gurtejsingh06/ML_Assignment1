{
 "cells": [
  {
   "cell_type": "code",
   "execution_count": 1,
   "metadata": {},
   "outputs": [
    {
     "name": "stdout",
     "output_type": "stream",
     "text": [
      "Enter your name: Gurtej Singh\n",
      "Enter your age: 21\n",
      "Gurtej Singh will become 100 years old in the year 2100.\n"
     ]
    }
   ],
   "source": [
    "name = input(\"Enter your name: \")\n",
    "current_age = int(input(\"Enter your age: \"))\n",
    "hundredth_year = 2021 + (100 - current_age)\n",
    "print(f'{name} will become 100 years old in the year {hundredth_year}.')"
   ]
  },
  {
   "cell_type": "code",
   "execution_count": 2,
   "metadata": {},
   "outputs": [
    {
     "name": "stdout",
     "output_type": "stream",
     "text": [
      "How many times do you want the output to be displayed? 3\n",
      "Enter your name: Gurtej Singh\n",
      "Enter your age: 21\n",
      "Hi Gurtej Singh, you will turn 100 years old in the year 2042.\n",
      "Hi Gurtej Singh, you will turn 100 years old in the year 2042.\n",
      "Hi Gurtej Singh, you will turn 100 years old in the year 2042.\n"
     ]
    }
   ],
   "source": [
    "n = int(input(\"How many times do you want the output to be displayed? \"))\n",
    "\n",
    "name = input(\"Enter your name: \")\n",
    "age = int( input(\"Enter your age: \") )\n",
    "bday100 =  2021 + age\n",
    "\n",
    "for i in range(n):\n",
    "    print(f\"Hi {name}, you will turn 100 years old in the year {bday100}.\")"
   ]
  },
  {
   "cell_type": "code",
   "execution_count": null,
   "metadata": {},
   "outputs": [],
   "source": []
  }
 ],
 "metadata": {
  "kernelspec": {
   "display_name": "Python 3",
   "language": "python",
   "name": "python3"
  },
  "language_info": {
   "codemirror_mode": {
    "name": "ipython",
    "version": 3
   },
   "file_extension": ".py",
   "mimetype": "text/x-python",
   "name": "python",
   "nbconvert_exporter": "python",
   "pygments_lexer": "ipython3",
   "version": "3.7.3"
  }
 },
 "nbformat": 4,
 "nbformat_minor": 2
}
